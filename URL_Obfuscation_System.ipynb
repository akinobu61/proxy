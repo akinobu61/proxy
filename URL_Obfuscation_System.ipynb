{
  "cells": [
    {
      "cell_type": "markdown",
      "metadata": {
        "id": "view-in-github",
        "colab_type": "text"
      },
      "source": [
        "<a href=\"https://colab.research.google.com/github/yourusername/url_obfuscation/blob/main/URL_Obfuscation_System.ipynb\" target=\"_parent\"><img src=\"https://colab.research.google.com/assets/colab-badge.svg\" alt=\"Open In Colab\"/></a>"
      ]
    },
    {
      "cell_type": "markdown",
      "metadata": {
        "id": "intro"
      },
      "source": [
        "# URL難読化システム\n",
        "\n",
        "このノートブックでは、URLの難読化と安全なプロキシシステムを実装しています。以下の機能があります：\n",
        "\n",
        "- **URL難読化**: 元のURLを暗号化して隠します\n",
        "- **期限付きURL**: 生成されたURLは1時間後に自動的に無効になります\n",
        "- **リダイレクト対応**: リダイレクトされるURLも適切に処理します\n",
        "- **HTML処理**: リンク、画像、スクリプトなどの要素のURLも難読化します\n",
        "\n",
        "## 使用上の注意\n",
        "\n",
        "- このコードはデモンストレーションとして提供されています\n",
        "- セキュリティが重要な用途には、より堅牢な暗号化方式を使用してください\n",
        "- 実際の使用では、暗号化キーを安全に管理してください"
      ]
    },
    {
      "cell_type": "markdown",
      "metadata": {
        "id": "dependencies"
      },
      "source": [
        "## 依存ライブラリのインストール\n",
        "\n",
        "必要なライブラリをインストールします。"
      ]
    },
    {
      "cell_type": "code",
      "execution_count": null,
      "metadata": {
        "id": "install_dependencies"
      },
      "outputs": [],
      "source": [
        "!pip install requests beautifulsoup4"
      ]
    },
    {
      "cell_type": "markdown",
      "metadata": {
        "id": "code_implementation"
      },
      "source": [
        "## URL難読化システムの実装\n",
        "\n",
        "以下のコードでURL難読化システムを実装します。"
      ]
    },
    {
      "cell_type": "code",
      "execution_count": null,
      "metadata": {
        "id": "obfuscation_code"
      },
      "outputs": [],
      "source": [
        "import base64\n",
        "import hashlib\n",
        "import time\n",
        "import urllib.parse\n",
        "import requests\n",
        "from datetime import datetime\n",
        "from bs4 import BeautifulSoup\n",
        "import re\n",
        "\n",
        "# 簡単な暗号化キー - 実際の使用では環境変数から取得する安全なキーを使用してください\n",
        "ENCRYPTION_KEY = \"proxyapi_secure_key\"\n",
        "\n",
        "def is_valid_url(url):\n",
        "    \"\"\"\n",
        "    URLが有効かどうかをチェック\n",
        "    \"\"\"\n",
        "    try:\n",
        "        result = urllib.parse.urlparse(url)\n",
        "        # スキームとネットロックをチェック\n",
        "        return all([result.scheme, result.netloc])\n",
        "    except Exception as e:\n",
        "        print(f\"URLの検証エラー: {str(e)}\")\n",
        "        return False\n",
        "\n",
        "def xor_encrypt(data, key):\n",
        "    \"\"\"\n",
        "    URLの難読化のための単純なXOR暗号化\n",
        "    \"\"\"\n",
        "    key_bytes = key.encode('utf-8')\n",
        "    # データがバイト形式であることを確認\n",
        "    if isinstance(data, str):\n",
        "        data_bytes = data.encode('utf-8')\n",
        "    else:\n",
        "        data_bytes = data\n",
        "    key_len = len(key_bytes)\n",
        "    \n",
        "    # 各バイトをキーの対応するバイトでXOR\n",
        "    encrypted = bytearray()\n",
        "    for i, byte in enumerate(data_bytes):\n",
        "        key_byte = key_bytes[i % key_len]\n",
        "        encrypted.append(byte ^ key_byte)\n",
        "    \n",
        "    return encrypted\n",
        "\n",
        "def xor_decrypt(data, key):\n",
        "    \"\"\"\n",
        "    単純なXOR復号化（暗号化と同じ）\n",
        "    \"\"\"\n",
        "    # XORは対称的なので、暗号化と復号化は同じ\n",
        "    # ただし、データがバイトであり、文字列でないことを確認する必要があります\n",
        "    if isinstance(data, str):\n",
        "        data = data.encode('utf-8')\n",
        "    return xor_encrypt(data, key)\n",
        "\n",
        "def obfuscate_url(url):\n",
        "    \"\"\"\n",
        "    XOR暗号化とbase64エンコーディングを組み合わせてURLを難読化\n",
        "    URL有効期限: 1時間\n",
        "    \"\"\"\n",
        "    try:\n",
        "        # URLを正規化\n",
        "        url = urllib.parse.unquote(url)\n",
        "        \n",
        "        # リプレイ攻撃を防ぐためにタイムスタンプを追加\n",
        "        timestamped_url = f\"{url}|{datetime.now().timestamp()}\"\n",
        "        \n",
        "        # URLを暗号化\n",
        "        encrypted = xor_encrypt(timestamped_url, ENCRYPTION_KEY)\n",
        "        \n",
        "        # 暗号化されたデータをBase64エンコード\n",
        "        encoded = base64.urlsafe_b64encode(encrypted).decode('utf-8')\n",
        "        \n",
        "        # 単純なチェックサムを追加\n",
        "        checksum = hashlib.md5(encoded.encode('utf-8')).hexdigest()[:8]\n",
        "        obfuscated = f\"{encoded}.{checksum}\"\n",
        "        \n",
        "        return obfuscated\n",
        "    \n",
        "    except Exception as e:\n",
        "        print(f\"URL難読化エラー: {str(e)}\")\n",
        "        return None\n",
        "\n",
        "def deobfuscate_url(obfuscated):\n",
        "    \"\"\"\n",
        "    難読化プロセスを逆にしてURLを復号化\n",
        "    URLは1時間後に期限切れ\n",
        "    \"\"\"\n",
        "    try:\n",
        "        # 形式をチェックして部品を抽出\n",
        "        parts = obfuscated.split('.')\n",
        "        if len(parts) != 2:\n",
        "            print(\"無効な難読化URL形式\")\n",
        "            return None\n",
        "        \n",
        "        encoded, checksum = parts\n",
        "        \n",
        "        # チェックサムを検証\n",
        "        calculated_checksum = hashlib.md5(encoded.encode('utf-8')).hexdigest()[:8]\n",
        "        if calculated_checksum != checksum:\n",
        "            print(\"チェックサム検証失敗\")\n",
        "            return None\n",
        "        \n",
        "        # Base64デコード\n",
        "        try:\n",
        "            encrypted = base64.urlsafe_b64decode(encoded)\n",
        "        except Exception as e:\n",
        "            print(f\"Base64デコードエラー: {str(e)}\")\n",
        "            return None\n",
        "        \n",
        "        # 復号化\n",
        "        decrypted = xor_encrypt(encrypted, ENCRYPTION_KEY).decode('utf-8')\n",
        "        \n",
        "        # タイムスタンプとURLを抽出\n",
        "        parts = decrypted.split('|')\n",
        "        if len(parts) != 2:\n",
        "            print(\"無効な復号化URL形式（タイムスタンプがない）\")\n",
        "            return None\n",
        "            \n",
        "        url = parts[0]\n",
        "        try:\n",
        "            timestamp = float(parts[1])\n",
        "            # URLが期限切れかどうかチェック（1時間 = 3600秒）\n",
        "            current_time = datetime.now().timestamp()\n",
        "            if current_time - timestamp > 3600:\n",
        "                print(\"URLの期限切れ（1時間以上前）\")\n",
        "                return None\n",
        "        except Exception as e:\n",
        "            print(f\"タイムスタンプの解析エラー: {str(e)}\")\n",
        "            return None\n",
        "        \n",
        "        return url\n",
        "    \n",
        "    except Exception as e:\n",
        "        print(f\"URL復号化エラー: {str(e)}\")\n",
        "        return None\n",
        "\n",
        "def proxy_request(url, wait_time=1):\n",
        "    \"\"\"\n",
        "    指定されたURLにリクエストを転送し、レスポンスを返す\n",
        "    wait_time: リクエスト前に待機する秒数（デフォルト: 1秒）\n",
        "    \"\"\"\n",
        "    if not is_valid_url(url):\n",
        "        return {\"error\": \"無効なターゲットURL\", \"status\": 400}\n",
        "    \n",
        "    try:\n",
        "        print(f\"{url}へのリクエストを{wait_time}秒の遅延でプロキシ\")\n",
        "        \n",
        "        # 指定された時間だけ待機\n",
        "        if wait_time > 0:\n",
        "            time.sleep(wait_time)\n",
        "        \n",
        "        # リクエストをターゲットURLに転送\n",
        "        resp = requests.get(\n",
        "            url=url,\n",
        "            headers={'User-Agent': 'Mozilla/5.0 (Windows NT 10.0; Win64; x64) AppleWebKit/537.36 (KHTML, like Gecko) Chrome/91.0.4472.124 Safari/537.36'},\n",
        "            timeout=10,\n",
        "            allow_redirects=True  # 自動的にリダイレクトを処理\n",
        "        )\n",
        "        \n",
        "        return {\n",
        "            \"status\": resp.status_code,\n",
        "            \"content_type\": resp.headers.get('content-type', ''),\n",
        "            \"content\": resp.text,\n",
        "            \"headers\": dict(resp.headers),\n",
        "            \"url\": resp.url  # リダイレクト後のURL\n",
        "        }\n",
        "    \n",
        "    except requests.exceptions.Timeout:\n",
        "        return {\"error\": \"ターゲットURLへのリクエストがタイムアウト\", \"status\": 504}\n",
        "    \n",
        "    except requests.exceptions.RequestException as e:\n",
        "        return {\"error\": f\"リクエストのプロキシエラー: {str(e)}\", \"status\": 502}\n",
        "\n",
        "def process_html_content(html_content, base_url):\n",
        "    \"\"\"\n",
        "    HTML内のURLをプロキシURLに変換\n",
        "    \"\"\"\n",
        "    try:\n",
        "        # BeautifulSoupを使用してHTMLを解析\n",
        "        soup = BeautifulSoup(html_content, 'html.parser')\n",
        "        \n",
        "        # すべてのリンクを処理\n",
        "        for link in soup.find_all(['a', 'link']):\n",
        "            href = link.get('href')\n",
        "            if href:\n",
        "                # フラグメントのみのリンクをスキップ（例：#section）\n",
        "                if href.startswith('#'):\n",
        "                    continue\n",
        "                    \n",
        "                # 相対URLを処理\n",
        "                if href.startswith('/'):\n",
        "                    absolute_url = f\"{base_url}{href}\"\n",
        "                # 絶対URLを処理\n",
        "                elif href.startswith(('http://', 'https://')):\n",
        "                    absolute_url = href\n",
        "                # プロトコル相対URL（//example.com）を処理\n",
        "                elif href.startswith('//'):\n",
        "                    parsed_url = urllib.parse.urlparse(base_url)\n",
        "                    absolute_url = f\"{parsed_url.scheme}:{href}\"\n",
        "                else:\n",
        "                    # mailto:, tel:, javascript: リンクをスキップ\n",
        "                    if any(href.startswith(scheme) for scheme in ['mailto:', 'tel:', 'javascript:']):\n",
        "                        continue\n",
        "                    # その他の相対パス（/で始まらない）\n",
        "                    parsed_url = urllib.parse.urlparse(base_url)\n",
        "                    path_base = '/'.join(parsed_url.path.split('/')[:-1]) if '/' in parsed_url.path else ''\n",
        "                    absolute_url = f\"{base_url}{path_base}/{href}\"\n",
        "                \n",
        "                # 難読化して新しいプロキシURLを作成\n",
        "                obfuscated = obfuscate_url(absolute_url)\n",
        "                if obfuscated:\n",
        "                    link['href'] = f\"proxy:/{obfuscated}\"\n",
        "        \n",
        "        # スクリプト、画像、その他のリソースを処理\n",
        "        for tag in soup.find_all(['script', 'img', 'iframe', 'source']):\n",
        "            src = tag.get('src')\n",
        "            if src and not src.startswith('data:'):  # data: URLをスキップ\n",
        "                # 相対URLを処理\n",
        "                if src.startswith('/'):\n",
        "                    absolute_url = f\"{base_url}{src}\"\n",
        "                # 絶対URLを処理\n",
        "                elif src.startswith(('http://', 'https://')):\n",
        "                    absolute_url = src\n",
        "                # プロトコル相対URL（//example.com）を処理\n",
        "                elif src.startswith('//'):\n",
        "                    parsed_url = urllib.parse.urlparse(base_url)\n",
        "                    absolute_url = f\"{parsed_url.scheme}:{src}\"\n",
        "                else:\n",
        "                    # その他の相対パス（/で始まらない）\n",
        "                    parsed_url = urllib.parse.urlparse(base_url)\n",
        "                    path_base = '/'.join(parsed_url.path.split('/')[:-1]) if '/' in parsed_url.path else ''\n",
        "                    absolute_url = f\"{base_url}{path_base}/{src}\"\n",
        "                \n",
        "                # 難読化して新しいプロキシURLを作成\n",
        "                obfuscated = obfuscate_url(absolute_url)\n",
        "                if obfuscated:\n",
        "                    tag['src'] = f\"proxy:/{obfuscated}\"\n",
        "        \n",
        "        # 文字列に戻す\n",
        "        return str(soup)\n",
        "    \n",
        "    except Exception as e:\n",
        "        print(f\"HTML処理エラー: {str(e)}\")\n",
        "        return html_content\n",
        "\n",
        "# Google Colab用のメソッド - HTML出力のサンプル\n",
        "def display_processed_html(url, wait_time=1):\n",
        "    \"\"\"\n",
        "    URLを取得し、処理されたHTMLを表示\n",
        "    \"\"\"\n",
        "    from IPython.display import HTML, display\n",
        "    \n",
        "    response = proxy_request(url, wait_time)\n",
        "    \n",
        "    if 'error' in response:\n",
        "        return f\"エラー: {response['error']} (ステータス: {response['status']})\"\n",
        "    \n",
        "    content_type = response.get('content_type', '')\n",
        "    \n",
        "    if 'text/html' in content_type:\n",
        "        # 基本URLを取得して相対URLを解決\n",
        "        parsed_url = urllib.parse.urlparse(response.get('url', url))\n",
        "        base_url = f\"{parsed_url.scheme}://{parsed_url.netloc}\"\n",
        "        \n",
        "        # HTMLを処理\n",
        "        processed_html = process_html_content(response['content'], base_url)\n",
        "        \n",
        "        # 処理されたHTMLを表示\n",
        "        display(HTML(f\"<h2>処理済みHTML - {url}</h2>\"))\n",
        "        display(HTML(f\"<pre>{processed_html[:500]}...</pre>\"))\n",
        "        \n",
        "        return {\n",
        "            \"status\": response['status'],\n",
        "            \"content_type\": content_type,\n",
        "            \"url\": response.get('url', url),\n",
        "            \"processed_html_length\": len(processed_html)\n",
        "        }\n",
        "    else:\n",
        "        return {\n",
        "            \"status\": response['status'],\n",
        "            \"content_type\": content_type,\n",
        "            \"url\": response.get('url', url),\n",
        "            \"message\": \"HTMLではないコンテンツ\"\n",
        "        }"
      ]
    },
    {
      "cell_type": "markdown",
      "metadata": {
        "id": "basic_demo"
      },
      "source": [
        "## 基本的なURL難読化のデモ\n",
        "\n",
        "まず、基本的なURL難読化と復号化をテストします。"
      ]
    },
    {
      "cell_type": "code",
      "execution_count": null,
      "metadata": {
        "id": "obfuscation_demo"
      },
      "outputs": [],
      "source": [
        "# テスト用のURL\n",
        "test_url = \"https://example.com\"\n",
        "\n",
        "# URLを難読化\n",
        "obfuscated_url = obfuscate_url(test_url)\n",
        "print(f\"元のURL: {test_url}\")\n",
        "print(f\"難読化されたURL: {obfuscated_url}\")\n",
        "\n",
        "# 難読化されたURLを復号化\n",
        "deobfuscated_url = deobfuscate_url(obfuscated_url)\n",
        "print(f\"復号化されたURL: {deobfuscated_url}\")"
      ]
    },
    {
      "cell_type": "markdown",
      "metadata": {
        "id": "expiration_demo"
      },
      "source": [
        "## URL有効期限のシミュレーション\n",
        "\n",
        "URLの有効期限（1時間）機能をシミュレートします。"
      ]
    },
    {
      "cell_type": "code",
      "execution_count": null,
      "metadata": {
        "id": "expiration_code"
      },
      "outputs": [],
      "source": [
        "# 有効期限シミュレーション用の関数\n",
        "def simulate_expiration(url, hours_in_future=2):\n",
        "    # 現在のURLを難読化\n",
        "    obfuscated = obfuscate_url(url)\n",
        "    print(f\"難読化されたURL: {obfuscated}\")\n",
        "    \n",
        "    # 現在の時点での検証\n",
        "    print(\"\\n現在の時点での検証:\")\n",
        "    deobfuscated = deobfuscate_url(obfuscated)\n",
        "    print(f\"有効なURL: {deobfuscated is not None}\")\n",
        "    if deobfuscated:\n",
        "        print(f\"復号化されたURL: {deobfuscated}\")\n",
        "    \n",
        "    # URLを難読化する際のタイムスタンプを「過去」に変更\n",
        "    # (通常これは難読化された文字列内に埋め込まれているため外部からは変更できません)\n",
        "    # これはシミュレーションのためだけのコードです\n",
        "    print(f\"\\n{hours_in_future}時間後をシミュレーション:\")\n",
        "    parts = obfuscated.split('.')\n",
        "    encrypted = base64.urlsafe_b64decode(parts[0])\n",
        "    decrypted = xor_encrypt(encrypted, ENCRYPTION_KEY).decode('utf-8')\n",
        "    url_part, _ = decrypted.split('|')\n",
        "    \n",
        "    # 現在の時間から「過去」に設定したタイムスタンプを作成\n",
        "    past_time = datetime.now().timestamp() - (hours_in_future * 3600)\n",
        "    expired_url = f\"{url_part}|{past_time}\"\n",
        "    \n",
        "    # 期限切れURLを再暗号化\n",
        "    expired_encrypted = xor_encrypt(expired_url, ENCRYPTION_KEY)\n",
        "    expired_encoded = base64.urlsafe_b64encode(expired_encrypted).decode('utf-8')\n",
        "    expired_checksum = hashlib.md5(expired_encoded.encode('utf-8')).hexdigest()[:8]\n",
        "    expired_obfuscated = f\"{expired_encoded}.{expired_checksum}\"\n",
        "    \n",
        "    # 期限切れURLを検証\n",
        "    deobfuscated = deobfuscate_url(expired_obfuscated)\n",
        "    print(f\"有効なURL: {deobfuscated is not None}\")\n",
        "    if deobfuscated:\n",
        "        print(f\"復号化されたURL: {deobfuscated}\")\n",
        "    \n",
        "# シミュレーションを実行\n",
        "simulate_expiration(\"https://example.com\")"
      ]
    },
    {
      "cell_type": "markdown",
      "metadata": {
        "id": "proxy_demo"
      },
      "source": [
        "## プロキシリクエストのデモ\n",
        "\n",
        "プロキシリクエスト機能をテストします。"
      ]
    },
    {
      "cell_type": "code",
      "execution_count": null,
      "metadata": {
        "id": "proxy_code"
      },
      "outputs": [],
      "source": [
        "# プロキシリクエストのテスト\n",
        "response = proxy_request(\"https://example.com\", wait_time=0)  # wait_time=0で即時処理\n",
        "\n",
        "if 'error' in response:\n",
        "    print(f\"エラー: {response['error']} (ステータス: {response['status']})\")\n",
        "else:\n",
        "    print(f\"ステータス: {response['status']}\")\n",
        "    print(f\"コンテンツタイプ: {response['content_type']}\")\n",
        "    print(f\"最終URL: {response['url']}\")\n",
        "    print(f\"コンテンツ（最初の100文字）: {response['content'][:100]}...\")"
      ]
    },
    {
      "cell_type": "markdown",
      "metadata": {
        "id": "html_processing_demo"
      },
      "source": [
        "## HTMLコンテンツ処理のデモ\n",
        "\n",
        "取得したHTMLコンテンツ内のURLを難読化する処理をテストします。"
      ]
    },
    {
      "cell_type": "code",
      "execution_count": null,
      "metadata": {
        "id": "html_processing_code"
      },
      "outputs": [],
      "source": [
        "# HTMLを取得し、処理する\n",
        "result = display_processed_html(\"https://example.com\", wait_time=0)\n",
        "print(\"\\n処理結果:\")\n",
        "print(result)"
      ]
    },
    {
      "cell_type": "markdown",
      "metadata": {
        "id": "redirect_demo"
      },
      "source": [
        "## リダイレクト対応のデモ\n",
        "\n",
        "リダイレクトが発生するURLのケースをテストします。"
      ]
    },
    {
      "cell_type": "code",
      "execution_count": null,
      "metadata": {
        "id": "redirect_code"
      },
      "outputs": [],
      "source": [
        "# リダイレクトするURLのテスト\n",
        "# 注: HTTPからHTTPSへのリダイレクトを使用\n",
        "redirect_url = \"http://github.com\"  # HTTPSにリダイレクトされる\n",
        "\n",
        "response = proxy_request(redirect_url, wait_time=0)\n",
        "\n",
        "if 'error' in response:\n",
        "    print(f\"エラー: {response['error']} (ステータス: {response['status']})\")\n",
        "else:\n",
        "    print(f\"元のURL: {redirect_url}\")\n",
        "    print(f\"リダイレクト後のURL: {response['url']}\")\n",
        "    print(f\"ステータス: {response['status']}\")\n",
        "    print(f\"コンテンツタイプ: {response['content_type']}\")"
      ]
    },
    {
      "cell_type": "markdown",
      "metadata": {
        "id": "custom_demo"
      },
      "source": [
        "## カスタムURLのテスト\n",
        "\n",
        "任意のURLをテストします。"
      ]
    },
    {
      "cell_type": "code",
      "execution_count": null,
      "metadata": {
        "id": "custom_url_code"
      },
      "outputs": [],
      "source": [
        "# 任意のURLを入力\n",
        "custom_url = input(\"テストするURLを入力してください: \")\n",
        "\n",
        "# URLを難読化\n",
        "obfuscated = obfuscate_url(custom_url)\n",
        "print(f\"難読化されたURL: {obfuscated}\")\n",
        "\n",
        "# 難読化されたURLを復号化\n",
        "deobfuscated = deobfuscate_url(obfuscated)\n",
        "print(f\"復号化されたURL: {deobfuscated}\")\n",
        "\n",
        "# プロキシリクエスト\n",
        "print(\"\\nURLにリクエストを送信中...\")\n",
        "response = proxy_request(custom_url, wait_time=0)\n",
        "\n",
        "if 'error' in response:\n",
        "    print(f\"エラー: {response['error']} (ステータス: {response['status']})\")\n",
        "else:\n",
        "    print(f\"ステータス: {response['status']}\")\n",
        "    print(f\"コンテンツタイプ: {response['content_type']}\")\n",
        "    print(f\"最終URL: {response['url']}\")\n",
        "    \n",
        "    # HTMLコンテンツなら簡単なプレビューを表示\n",
        "    if 'text/html' in response['content_type']:\n",
        "        from IPython.display import HTML, display\n",
        "        print(\"\\nHTMLコンテンツのプレビュー:\")\n",
        "        display(HTML(f\"<iframe src='{response['url']}' width='100%' height='400px'></iframe>\"))"
      ]
    },
    {
      "cell_type": "markdown",
      "metadata": {
        "id": "conclusion"
      },
      "source": [
        "## まとめ\n",
        "\n",
        "このノートブックでは、以下の機能を持つURL難読化システムを実装しました：\n",
        "\n",
        "1. **URL難読化と復号化**: XOR暗号化とbase64エンコーディングを使用\n",
        "2. **1時間の有効期限**: タイムスタンプを使用して期限切れを管理\n",
        "3. **リダイレクト対応**: リダイレクトされるURLも適切に処理\n",
        "4. **HTMLコンテンツ処理**: ページ内のリンクやリソースURLも難読化\n",
        "\n",
        "### 実際のアプリケーションでの利用\n",
        "\n",
        "* より堅牢な暗号化アルゴリズムの使用\n",
        "* 有効期限の調整\n",
        "* HTTPヘッダーの詳細な管理\n",
        "* レート制限などのセキュリティ対策\n",
        "\n",
        "をお勧めします。"
      ]
    }
  ],
  "metadata": {
    "colab": {
      "collapsed_sections": [],
      "name": "URL_Obfuscation_System.ipynb",
      "private_outputs": true,
      "provenance": []
    },
    "kernelspec": {
      "display_name": "Python 3",
      "name": "python3"
    },
    "language_info": {
      "name": "python"
    }
  },
  "nbformat": 4,
  "nbformat_minor": 0
}